{
 "metadata": {
  "language": "Julia",
  "name": ""
 },
 "nbformat": 3,
 "nbformat_minor": 0,
 "worksheets": [
  {
   "cells": [
    {
     "cell_type": "code",
     "collapsed": false,
     "input": [
      "# 2a\n",
      "srand(42);\n",
      "N = 10000;\n",
      "true_mean = 10000.;\n",
      "y = true_mean + randn(N);"
     ],
     "language": "python",
     "metadata": {},
     "outputs": []
    },
    {
     "cell_type": "code",
     "collapsed": false,
     "input": [
      "sample_mean = mean(y);\n",
      "sample_var = var(y);\n",
      "(sample_mean, sample_var)"
     ],
     "language": "python",
     "metadata": {},
     "outputs": [
      {
       "metadata": {},
       "output_type": "pyout",
       "prompt_number": 1,
       "text": [
        "(9999.998011659798,1.0199227833780644)"
       ]
      }
     ],
     "prompt_number": 1
    },
    {
     "cell_type": "code",
     "collapsed": false,
     "input": [
      "# OK, 2a done"
     ],
     "language": "python",
     "metadata": {},
     "outputs": [],
     "prompt_number": 38
    },
    {
     "cell_type": "code",
     "collapsed": false,
     "input": [
      "# 2b\n",
      "y32bit = convert(Array{Float32,1},y);\n",
      "m32 = mean(y32bit);\n",
      "v32 = var(y32bit);\n",
      "(m32, v32)"
     ],
     "language": "python",
     "metadata": {},
     "outputs": [
      {
       "metadata": {},
       "output_type": "pyout",
       "prompt_number": 4,
       "text": [
        "(9999.998f0,1.0199206f0)"
       ]
      }
     ],
     "prompt_number": 4
    },
    {
     "cell_type": "code",
     "collapsed": false,
     "input": [
      "y16bit = convert(Array{Float16,1},y);\n",
      "m16 = mean(y16bit);\n",
      "v16 = var(y16bit);\n",
      "(m16, v16)"
     ],
     "language": "python",
     "metadata": {},
     "outputs": [
      {
       "metadata": {},
       "output_type": "pyout",
       "prompt_number": 5,
       "text": [
        "(Inf32,Inf32)"
       ]
      }
     ],
     "prompt_number": 5
    },
    {
     "cell_type": "code",
     "collapsed": false,
     "input": [
      "# mean() cannot calculate the mean within 16bit floating point\n",
      "# range.\n",
      "# Difference of 64 bit to 32 bit is\n",
      "(m32 - sample_mean, v32 - sample_var)"
     ],
     "language": "python",
     "metadata": {},
     "outputs": [
      {
       "metadata": {},
       "output_type": "pyout",
       "prompt_number": 17,
       "text": [
        "(3.521520193316974e-5,-2.1958383915610113e-6)"
       ]
      }
     ],
     "prompt_number": 17
    },
    {
     "cell_type": "code",
     "collapsed": false,
     "input": [
      "# 2c\n",
      "# If N=10^5, then maximum number to compute is roughly 10^9,\n",
      "# which a 32 bit float should easily handle, but precision\n",
      "# should suffer.\n",
      "# Same for N=10^4, true_mean=10^5, although with much more\n",
      "# precision loss for the variance."
     ],
     "language": "python",
     "metadata": {},
     "outputs": [],
     "prompt_number": 18
    },
    {
     "cell_type": "code",
     "collapsed": false,
     "input": [
      "# 2d\n",
      "srand(42);\n",
      "N = 100000;\n",
      "true_mean = 10000.;\n",
      "y = true_mean + randn(N);\n",
      "sample_mean = mean(y);\n",
      "sample_var = var(y);\n",
      "(sample_mean, sample_var)"
     ],
     "language": "python",
     "metadata": {},
     "outputs": [
      {
       "metadata": {},
       "output_type": "pyout",
       "prompt_number": 20,
       "text": [
        "(10000.0031598515,1.0088883985077686)"
       ]
      }
     ],
     "prompt_number": 20
    },
    {
     "cell_type": "code",
     "collapsed": false,
     "input": [
      "y32bit = convert(Array{Float32,1},y);\n",
      "m32 = mean(y32bit);\n",
      "v32 = var(y32bit);\n",
      "(m32, v32)"
     ],
     "language": "python",
     "metadata": {},
     "outputs": [
      {
       "metadata": {},
       "output_type": "pyout",
       "prompt_number": 21,
       "text": [
        "(10000.003f0,1.0088867f0)"
       ]
      }
     ],
     "prompt_number": 21
    },
    {
     "cell_type": "code",
     "collapsed": false,
     "input": [
      "y16bit = convert(Array{Float16,1},y);\n",
      "m16 = mean(y16bit);\n",
      "v16 = var(y16bit);\n",
      "(m16, v16)"
     ],
     "language": "python",
     "metadata": {},
     "outputs": [
      {
       "metadata": {},
       "output_type": "pyout",
       "prompt_number": 22,
       "text": [
        "(Inf32,Inf32)"
       ]
      }
     ],
     "prompt_number": 22
    },
    {
     "cell_type": "code",
     "collapsed": false,
     "input": [
      "(m32 - sample_mean, v32 - sample_var)"
     ],
     "language": "python",
     "metadata": {},
     "outputs": [
      {
       "metadata": {},
       "output_type": "pyout",
       "prompt_number": 23,
       "text": [
        "(-0.0002301639997313032,-1.7035996264791464e-6)"
       ]
      }
     ],
     "prompt_number": 23
    },
    {
     "cell_type": "code",
     "collapsed": false,
     "input": [
      "# Yes, less precision in the mean, but no bug difference in the\n",
      "# variance."
     ],
     "language": "python",
     "metadata": {},
     "outputs": [],
     "prompt_number": 24
    },
    {
     "cell_type": "code",
     "collapsed": false,
     "input": [
      "srand(42);\n",
      "N = 10000;\n",
      "true_mean = 100000.;\n",
      "y = true_mean + randn(N);\n",
      "sample_mean = mean(y);\n",
      "sample_var = var(y);\n",
      "(sample_mean, sample_var)"
     ],
     "language": "python",
     "metadata": {},
     "outputs": [
      {
       "metadata": {},
       "output_type": "pyout",
       "prompt_number": 25,
       "text": [
        "(99999.9980116598,1.0199227833780122)"
       ]
      }
     ],
     "prompt_number": 25
    },
    {
     "cell_type": "code",
     "collapsed": false,
     "input": [
      "y32bit = convert(Array{Float32,1},y);\n",
      "m32 = mean(y32bit);\n",
      "v32 = var(y32bit);\n",
      "(m32, v32)"
     ],
     "language": "python",
     "metadata": {},
     "outputs": [
      {
       "metadata": {},
       "output_type": "pyout",
       "prompt_number": 26,
       "text": [
        "(100000.0f0,1.0200287f0)"
       ]
      }
     ],
     "prompt_number": 26
    },
    {
     "cell_type": "code",
     "collapsed": false,
     "input": [
      "y16bit = convert(Array{Float16,1},y);\n",
      "m16 = mean(y16bit);\n",
      "v16 = var(y16bit);\n",
      "(m16, v16)"
     ],
     "language": "python",
     "metadata": {},
     "outputs": [
      {
       "metadata": {},
       "output_type": "pyout",
       "prompt_number": 27,
       "text": [
        "(Inf32,NaN32)"
       ]
      }
     ],
     "prompt_number": 27
    },
    {
     "cell_type": "code",
     "collapsed": false,
     "input": [
      "(m32 - sample_mean, v32 - sample_var)"
     ],
     "language": "python",
     "metadata": {},
     "outputs": [
      {
       "metadata": {},
       "output_type": "pyout",
       "prompt_number": 28,
       "text": [
        "(0.001988340198295191,0.00010592698728317806)"
       ]
      }
     ],
     "prompt_number": 28
    },
    {
     "cell_type": "code",
     "collapsed": false,
     "input": [
      "# With a higher true_mean the precision has indeed suffered much\n",
      "# more, since the small random changes are relatively smaller.\n",
      "# Interestingly, the 16 bit version now has a NaN for the variance.\n",
      "# This seems odd, and I cannot explain it satisfactorily by the fact\n",
      "# that 10^5 doesn fit in a 16 bit float:\n",
      "float16(66000.)"
     ],
     "language": "python",
     "metadata": {},
     "outputs": [
      {
       "metadata": {},
       "output_type": "pyout",
       "prompt_number": 37,
       "text": [
        "Inf16"
       ]
      }
     ],
     "prompt_number": 37
    },
    {
     "cell_type": "code",
     "collapsed": false,
     "input": [
      "# 2e\n",
      "# First, beware of the number of bits, particularly when subtracting two\n",
      "# similarly-sized large numbers.\n",
      "# Second, don't save too much memory by choosing a small floating\n",
      "# point type. You must know the range of numbers that your type\n",
      "# can hold. This is especially important as it is not always clear\n",
      "# what intermediate results functions such as mean() or var() need."
     ],
     "language": "python",
     "metadata": {},
     "outputs": []
    }
   ],
   "metadata": {}
  }
 ]
}